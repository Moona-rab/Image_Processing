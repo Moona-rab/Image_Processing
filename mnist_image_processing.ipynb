{
 "cells": [
  {
   "cell_type": "markdown",
   "id": "caf66cc1",
   "metadata": {},
   "source": [
    "# Image Processing"
   ]
  },
  {
   "cell_type": "markdown",
   "id": "e592e959",
   "metadata": {},
   "source": [
    "The objective of this notebook is to build an image recognition classifier that\n",
    "accurately determines the number displayed in hand written digits.\n",
    "\n",
    "The MNIST database consists of 70 000 handwritten digits from 0 to 9. The digits have been size-normalised and centred in a fixed-size image."
   ]
  },
  {
   "cell_type": "markdown",
   "id": "971b54b1",
   "metadata": {},
   "source": [
    "## Import Libraries"
   ]
  },
  {
   "cell_type": "code",
   "execution_count": 20,
   "id": "09742231",
   "metadata": {},
   "outputs": [],
   "source": [
    "# importing libraries\n",
    "import scipy.io\n",
    "import numpy as np\n",
    "import pandas as pd\n",
    "import keras\n",
    "from keras.datasets import mnist\n",
    "import tensorflow\n",
    "from sklearn.datasets import fetch_openml\n",
    "from sklearn.model_selection import train_test_split\n",
    "from sklearn import tree\n",
    "from sklearn.tree import DecisionTreeClassifier\n",
    "from sklearn.ensemble import RandomForestClassifier\n",
    "from sklearn.metrics import confusion_matrix\n",
    "from sklearn.metrics import ConfusionMatrixDisplay\n",
    "from sklearn.metrics import accuracy_score, precision_score, recall_score, f1_score\n",
    "\n",
    "# for visualisation\n",
    "import matplotlib.pyplot as plt\n",
    "import seaborn as sns\n",
    "%matplotlib inline\n",
    "from sklearn.tree import export_graphviz\n",
    "from IPython.display import Image  \n",
    "from subprocess import call\n",
    "import warnings\n",
    "warnings.filterwarnings('ignore')\n"
   ]
  },
  {
   "cell_type": "markdown",
   "id": "286a65b3",
   "metadata": {},
   "source": [
    "## Visualise in Keras"
   ]
  },
  {
   "cell_type": "code",
   "execution_count": 2,
   "id": "618e12a7",
   "metadata": {},
   "outputs": [],
   "source": [
    "(train_X, train_y), (test_X, test_y) = mnist.load_data()"
   ]
  },
  {
   "cell_type": "code",
   "execution_count": 3,
   "id": "f74f6c7b",
   "metadata": {},
   "outputs": [
    {
     "data": {
      "image/png": "[encoded data removed]",
      "text/plain": [
       "<Figure size 640x480 with 9 Axes>"
      ]
     },
     "metadata": {},
     "output_type": "display_data"
    }
   ],
   "source": [
    "# define no. of subplots\n",
    "num_subplots = 9\n",
    "\n",
    "# loop through train_X\n",
    "for i in range(num_subplots):\n",
    "    # create subplot\n",
    "    plt.subplot(330 + 1 + i)\n",
    "    # display image in subplot\n",
    "    plt.imshow(train_X[i], cmap=plt.cm.gray)\n",
    "\n",
    "# show subplot\n",
    "plt.show()"
   ]
  },
  {
   "cell_type": "markdown",
   "id": "1673884c",
   "metadata": {},
   "source": [
    "## Read Data"
   ]
  },
  {
   "cell_type": "code",
   "execution_count": 4,
   "id": "bcf2b85f",
   "metadata": {},
   "outputs": [],
   "source": [
    "# load data\n",
    "mnist = fetch_openml(name='mnist_784')"
   ]
  },
  {
   "cell_type": "code",
   "execution_count": 5,
   "id": "f879288a",
   "metadata": {},
   "outputs": [
    {
     "data": {
      "text/plain": [
       "dict_keys(['data', 'target', 'frame', 'categories', 'feature_names', 'target_names', 'DESCR', 'details', 'url'])"
      ]
     },
     "execution_count": 5,
     "metadata": {},
     "output_type": "execute_result"
    }
   ],
   "source": [
    "# We will use mainly two keys, data(X) and target(y)\n",
    "mnist.keys()"
   ]
  },
  {
   "cell_type": "code",
   "execution_count": 6,
   "id": "cb73074c",
   "metadata": {},
   "outputs": [
    {
     "data": {
      "text/plain": [
       "0        5\n",
       "1        0\n",
       "2        4\n",
       "3        1\n",
       "4        9\n",
       "        ..\n",
       "69995    2\n",
       "69996    3\n",
       "69997    4\n",
       "69998    5\n",
       "69999    6\n",
       "Name: class, Length: 70000, dtype: category\n",
       "Categories (10, object): ['0', '1', '2', '3', ..., '6', '7', '8', '9']"
      ]
     },
     "execution_count": 6,
     "metadata": {},
     "output_type": "execute_result"
    }
   ],
   "source": [
    "# This is our label.\n",
    "mnist['target']"
   ]
  },
  {
   "cell_type": "code",
   "execution_count": 7,
   "id": "c39dd6d9",
   "metadata": {},
   "outputs": [
    {
     "data": {
      "text/plain": [
       "((1, 784), 2)"
      ]
     },
     "execution_count": 7,
     "metadata": {},
     "output_type": "execute_result"
    }
   ],
   "source": [
    "# assigning independent and dependent variables\n",
    "X, y = mnist['data'], mnist['target']\n",
    "X[:1].shape, X[:1].ndim"
   ]
  },
  {
   "cell_type": "code",
   "execution_count": 8,
   "id": "74f7370d",
   "metadata": {},
   "outputs": [
    {
     "data": {
      "text/plain": [
       "((70000, 784),\n",
       " (70000,),\n",
       " 0    5\n",
       " 1    0\n",
       " 2    4\n",
       " 3    1\n",
       " 4    9\n",
       " Name: class, dtype: category\n",
       " Categories (10, object): ['0', '1', '2', '3', ..., '6', '7', '8', '9'])"
      ]
     },
     "execution_count": 8,
     "metadata": {},
     "output_type": "execute_result"
    }
   ],
   "source": [
    "# observe shape and labels\n",
    "X.shape, y.shape, y[:5] "
   ]
  },
  {
   "cell_type": "code",
   "execution_count": 9,
   "id": "86550470",
   "metadata": {},
   "outputs": [],
   "source": [
    "# re=shape to visualise\n",
    "image = np.array(X[:1]).reshape(28, 28)"
   ]
  },
  {
   "cell_type": "markdown",
   "id": "259d072c",
   "metadata": {},
   "source": [
    "## Training and Test Samples"
   ]
  },
  {
   "cell_type": "markdown",
   "id": "c2a0dc80",
   "metadata": {},
   "source": [
    "Models are often prone to errors such as 'overfitting' and 'underfitting'. This can result in gross errors when computing the accuracy and specificity of the model.\n",
    "\n",
    "Using a ratio of 60/20/20 for training, development and test size respectively, we inititially split our data of 70 000 items into a training set of 56 000 observations and a test set of 14 000 observations.\n",
    "\n",
    "We then split the training set using a 0.25 ratio so that we have a training set of 44 800 observations and a development set of 11 200 observations.\n",
    "\n",
    "The development set allows us to select parameters, tune them and then use them to choose the best model to increase accuracy. We can use the development set to train and evaluate our model to counteract potential 'overfitting' or 'underfitting' issues before we use our test data for predicitions.\n",
    "\n",
    "The random_state parameter will be set to 42 so that we get the same train and test sets across different executions and ensure that the data split is deterministic."
   ]
  },
  {
   "cell_type": "code",
   "execution_count": 10,
   "id": "d6214eb2",
   "metadata": {},
   "outputs": [
    {
     "name": "stdout",
     "output_type": "stream",
     "text": [
      "Training data: (56000, 784) (56000,)\n",
      "Test data: (14000, 784) (14000,)\n"
     ]
    }
   ],
   "source": [
    "# split into training and test set\n",
    "X_train, X_test, y_train, y_test, = train_test_split(X, \n",
    "                y, test_size=0.2, random_state=0)\n",
    "\n",
    "print (\"Training data:\",X_train.shape, y_train.shape)\n",
    "print (\"Test data:\",X_test.shape, y_test.shape)"
   ]
  },
  {
   "cell_type": "code",
   "execution_count": 11,
   "id": "42cf21de",
   "metadata": {},
   "outputs": [
    {
     "name": "stdout",
     "output_type": "stream",
     "text": [
      "Training data: (42000, 784) (42000,)\n",
      "Test data: (14000, 784) (14000,)\n"
     ]
    }
   ],
   "source": [
    "# split into training and development set\n",
    "X_train, X_dev, y_train, y_dev, = train_test_split(X_train, \n",
    "                y_train, test_size=0.25, random_state=0)\n",
    "\n",
    "print (\"Training data:\",X_train.shape, y_train.shape)\n",
    "print (\"Test data:\",X_dev.shape, y_dev.shape)"
   ]
  },
  {
   "cell_type": "markdown",
   "id": "329a5c91",
   "metadata": {},
   "source": [
    "X_dev and y_dev store the features and labels respectively, for the development set."
   ]
  },
  {
   "cell_type": "markdown",
   "id": "4c7f4015",
   "metadata": {},
   "source": [
    "## Random Forest Classifier"
   ]
  },
  {
   "cell_type": "code",
   "execution_count": 12,
   "id": "9cb7b1a6",
   "metadata": {},
   "outputs": [
    {
     "name": "stdout",
     "output_type": "stream",
     "text": [
      "RandomForestClassifier(random_state=42)\n"
     ]
    }
   ],
   "source": [
    "# assign random state\n",
    "r = 42\n",
    "\n",
    "# Train Random Forest Classifier\n",
    "clf = RandomForestClassifier(n_estimators=100, random_state = r)\n",
    "\n",
    "# fit training set to model\n",
    "clf.fit(X_train, y_train)\n",
    "\n",
    "print(clf)\n",
    "                                       \n"
   ]
  },
  {
   "cell_type": "markdown",
   "id": "b489c645",
   "metadata": {},
   "source": [
    "### Choosing a parameter to tune:\n",
    "\n",
    "The random Forest Classifier has numerous parameters such as;\n",
    "\n",
    " - n_estimators: number of trees.\n",
    "\n",
    " - max_features\n",
    "\n",
    " - max_depth.\n",
    "\n",
    " - min_samples_split\n",
    "\n",
    " - min_samples_leaf\n",
    "\n",
    " - criteria\n",
    " \n",
    "We chose the n_estimators parameter to tune as increasing the number of decision trees in the ensemble allows us to decrease the sensitivity to variance thus making it less prone to 'overfitting'.\n",
    "\n",
    "Increasing the number of trees can affect efficiency as it increases computational time thus we must aim to find the optimal balance between the number of trees and accuracy."
   ]
  },
  {
   "cell_type": "code",
   "execution_count": 13,
   "id": "f55d94d2",
   "metadata": {},
   "outputs": [
    {
     "name": "stdout",
     "output_type": "stream",
     "text": [
      "Best Value for n_estimator: 93\n"
     ]
    }
   ],
   "source": [
    "n_estimators = range(1, 101)\n",
    "\n",
    "best_n_estimators = 0\n",
    "best_score = 0\n",
    "for n in n_estimators:\n",
    "  clf = RandomForestClassifier(n_estimators=n)\n",
    "  clf.fit(X_dev, y_dev)\n",
    "  score = clf.score(X_test, y_test)\n",
    "  if score > best_score:\n",
    "        best_score = score\n",
    "        best_n_estimators = n\n",
    "\n",
    "print('Best Value for n_estimator:', best_n_estimators)\n",
    "  "
   ]
  },
  {
   "cell_type": "markdown",
   "id": "d312e012",
   "metadata": {},
   "source": [
    "The best value for n_estimators was chosen using the code above as it is the value that produces the highest accuracy within a range that does not severely impact computational time."
   ]
  },
  {
   "cell_type": "code",
   "execution_count": 14,
   "id": "5167d956",
   "metadata": {},
   "outputs": [
    {
     "name": "stdout",
     "output_type": "stream",
     "text": [
      "RandomForestClassifier(n_estimators=93)\n"
     ]
    }
   ],
   "source": [
    "# using best value of n_estimators\n",
    "clf = RandomForestClassifier(n_estimators=best_n_estimators)\n",
    "clf.fit(X_train, y_train)\n",
    "\n",
    "print(clf)"
   ]
  },
  {
   "cell_type": "code",
   "execution_count": 15,
   "id": "cadb8b38",
   "metadata": {},
   "outputs": [
    {
     "data": {
      "text/plain": [
       "array([['0'],\n",
       "       ['4'],\n",
       "       ['1'],\n",
       "       ['2'],\n",
       "       ['7']], dtype=object)"
      ]
     },
     "execution_count": 15,
     "metadata": {},
     "output_type": "execute_result"
    }
   ],
   "source": [
    "# make predictions on test data\n",
    "y_pred = clf.predict(X_test).reshape(-1,1)\n",
    "\n",
    "#View first five predicitions\n",
    "y_pred[0:5]"
   ]
  },
  {
   "cell_type": "markdown",
   "id": "bdca6621",
   "metadata": {},
   "source": [
    "## Confusion Matrix\n",
    "\n",
    "The confusion matrix is a table that shows the number of incorrect and correct predictions made by the model. This provides useful insight into which classes the model struggled with most."
   ]
  },
  {
   "cell_type": "code",
   "execution_count": 21,
   "id": "706c4bd6",
   "metadata": {},
   "outputs": [
    {
     "data": {
      "text/plain": [
       "array([[1371,    0,    0,    0,    2,    4,    5,    0,    4,    1],\n",
       "       [   0, 1557,    7,    4,    3,    0,    3,    3,    2,    1],\n",
       "       [   2,    3, 1398,    7,    8,    0,    5,   11,    8,    1],\n",
       "       [   1,    3,   26, 1349,    0,   18,    2,   14,   18,    4],\n",
       "       [   1,    0,    1,    0, 1306,    0,    7,    4,    3,   28],\n",
       "       [   3,    5,    4,   13,    2, 1172,   15,    3,    6,    8],\n",
       "       [   8,    2,    1,    0,    4,    7, 1361,    0,    4,    0],\n",
       "       [   4,    5,   20,    2,    9,    0,    0, 1396,    3,   19],\n",
       "       [   2,   11,    7,    6,    6,    7,    4,    0, 1306,   19],\n",
       "       [   6,    1,    4,   20,   22,    8,    2,   13,   11, 1274]],\n",
       "      dtype=int64)"
      ]
     },
     "execution_count": 21,
     "metadata": {},
     "output_type": "execute_result"
    }
   ],
   "source": [
    "# Confusion matrix\n",
    "cm = confusion_matrix(y_test, y_pred)\n",
    "cm\n"
   ]
  },
  {
   "cell_type": "code",
   "execution_count": 25,
   "id": "69b68792",
   "metadata": {},
   "outputs": [
    {
     "data": {
      "image/png": "[encoded data removed]",
      "text/plain": [
       "<Figure size 640x480 with 2 Axes>"
      ]
     },
     "metadata": {},
     "output_type": "display_data"
    }
   ],
   "source": [
    "# Creating confusion matrix visual\n",
    "cm_display = ConfusionMatrixDisplay(confusion_matrix = cm, display_labels = ['0', '1', '2', '3', '4', '5', '6', '7', '8', '9'])\n",
    "cm_display.plot();"
   ]
  },
  {
   "cell_type": "markdown",
   "id": "74c23610",
   "metadata": {},
   "source": [
    "As we can see, the number 9 had the greatest instances of incorrect predictions, 87 in total. The largest number of a specific instance in this class was 22 where the number 9 was incorrectly classified as 4.\n",
    "\n",
    "The number 4 had the largest number of a specific instance where it was classified as the number 9.\n",
    "\n",
    "The number 3 had the second highest number of incorrect instances overall. The largest number of incorrect predictions for a specific instance in this class was 26 where the number 3 was incorrectly classified as the number 2.\n",
    "\n",
    "The number 0 had the least amount of incorrect instances so was the easiest to determine. It was mostly incorrectly classified as a number 6. \n",
    "\n",
    "We could use this information to decide to collect more instances of these numbers to allow for better classification."
   ]
  },
  {
   "cell_type": "markdown",
   "id": "11b31ebd",
   "metadata": {},
   "source": [
    "### Report accuracy, precision, recall, and f1-score\n",
    "\n",
    "The confusion matrix provides further insight for evaluating the perfomance of the model such as accuracy, precision. recall and f1_score."
   ]
  },
  {
   "cell_type": "code",
   "execution_count": 26,
   "id": "638c0029",
   "metadata": {},
   "outputs": [
    {
     "name": "stdout",
     "output_type": "stream",
     "text": [
      "Accuracy: 0.9635714285714285\n",
      "f1_score: 0.9635291758070484\n",
      "Precision: 0.9635566058675782\n",
      "Recall: 0.9635714285714285\n"
     ]
    }
   ],
   "source": [
    "# accuracy\n",
    "acc = accuracy_score(y_test, y_pred)\n",
    "\n",
    "# precision\n",
    "prec = precision_score(y_test, y_pred, average='weighted')\n",
    "\n",
    "# recall\n",
    "rec = recall_score(y_test, y_pred, average='weighted')\n",
    "\n",
    "# f1 score\n",
    "f1 = f1_score(y_test, y_pred, average='weighted')\n",
    "\n",
    "print('Accuracy: {}'.format(acc))\n",
    "print('f1_score:', f1)\n",
    "print('Precision:', prec)\n",
    "print('Recall:', rec)"
   ]
  }
 ],
 "metadata": {
  "kernelspec": {
   "display_name": "Python 3 (ipykernel)",
   "language": "python",
   "name": "python3"
  },
  "language_info": {
   "codemirror_mode": {
    "name": "ipython",
    "version": 3
   },
   "file_extension": ".py",
   "mimetype": "text/x-python",
   "name": "python",
   "nbconvert_exporter": "python",
   "pygments_lexer": "ipython3",
   "version": "3.10.6"
  }
 },
 "nbformat": 4,
 "nbformat_minor": 5
}
